{
 "cells": [
  {
   "cell_type": "markdown",
   "metadata": {
    "id": "12ncQ7a5aZjX"
   },
   "source": [
    "# Required libraries"
   ]
  },
  {
   "cell_type": "code",
   "execution_count": null,
   "metadata": {
    "colab": {
     "base_uri": "https://localhost:8080/",
     "height": 530
    },
    "executionInfo": {
     "elapsed": 3515,
     "status": "ok",
     "timestamp": 1601645084105,
     "user": {
      "displayName": "Alfons Mertjusuar",
      "photoUrl": "",
      "userId": "05850102642482204394"
     },
     "user_tz": -600
    },
    "id": "EnTF_tgaZCyi",
    "outputId": "bec866e2-deb6-42b4-b8c5-8af3e4c177a0"
   },
   "outputs": [],
   "source": [
    "\"\"\"Install required libraries\"\"\"\n",
    "# You must have pip installed\n",
    "!pip install mesa matplotlib numpy &> /dev/null"
   ]
  },
  {
   "cell_type": "markdown",
   "metadata": {},
   "source": [
    "# Collapsible headings (optional)"
   ]
  },
  {
   "cell_type": "code",
   "execution_count": null,
   "metadata": {},
   "outputs": [],
   "source": [
    "\"\"\"Jupyter notebook extensions that you can install if you want\"\"\"\n",
    "!pip install jupyter_contrib_nbextensions &> /dev/null\n",
    "!jupyter contrib nbextension install --user &> /dev/null\n",
    "!pip install jupyter_nbextensions_configurator &> /dev/null\n",
    "!jupyter nbextensions_configurator enable &> /dev/null\n",
    "\n",
    "# Collapsible headings (similar to Google Colab)\n",
    "!jupyter nbextension enable collapsible_headings/main &> /dev/null"
   ]
  }
 ],
 "metadata": {
  "colab": {
   "authorship_tag": "ABX9TyN9fCvfcOz7zF3mXhka5Esi",
   "collapsed_sections": [
    "12ncQ7a5aZjX",
    "xeSgHe-afCC8",
    "Kl04Yu89Toi9",
    "hGomaYvEIKFy",
    "dnh-XkXxIVwN"
   ],
   "name": "Overtourism.ipynb",
   "provenance": []
  },
  "kernelspec": {
   "display_name": "Python 3",
   "language": "python",
   "name": "python3"
  },
  "language_info": {
   "codemirror_mode": {
    "name": "ipython",
    "version": 3
   },
   "file_extension": ".py",
   "mimetype": "text/x-python",
   "name": "python",
   "nbconvert_exporter": "python",
   "pygments_lexer": "ipython3",
   "version": "3.7.3"
  }
 },
 "nbformat": 4,
 "nbformat_minor": 1
}
