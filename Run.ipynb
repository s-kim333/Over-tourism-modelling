{
 "cells": [
  {
   "cell_type": "markdown",
   "metadata": {
    "id": "glWRqY2CFvtn"
   },
   "source": [
    "# Load model visualisation server"
   ]
  },
  {
   "cell_type": "code",
   "execution_count": null,
   "metadata": {
    "colab": {
     "base_uri": "https://localhost:8080/",
     "height": 358
    },
    "executionInfo": {
     "elapsed": 945,
     "status": "error",
     "timestamp": 1601644831738,
     "user": {
      "displayName": "Alfons Mertjusuar",
      "photoUrl": "",
      "userId": "05850102642482204394"
     },
     "user_tz": -600
    },
    "id": "Q610Y0ClZdZS",
    "outputId": "ef21f2b4-53d3-4cb8-c428-0c8031e01d89",
    "scrolled": true
   },
   "outputs": [],
   "source": [
    "from mesa.visualization.modules import CanvasGrid\n",
    "from mesa.visualization.modules import ChartModule\n",
    "from mesa.visualization.ModularVisualization import ModularServer\n",
    "from mesa.visualization.UserParam import UserSettableParameter\n",
    "from mesa.visualization.modules import TextElement\n",
    "from matplotlib import pyplot as plt\n",
    "import numpy as np\n",
    "import pandas as pd\n",
    "import seaborn as sns\n",
    "\n",
    "%run Overtourism.ipynb\n",
    "\n",
    "def agent_portrayal(my_agent):\n",
    "    return my_agent.get_portrayal()\n",
    "\n",
    "# Create canvas grid\n",
    "grid = CanvasGrid(agent_portrayal,\n",
    "                  Constants.GRID_SIZE,\n",
    "                  Constants.GRID_SIZE,\n",
    "                  Constants.CANVAS_SIZE,\n",
    "                  Constants.CANVAS_SIZE)\n",
    "\n",
    "model_params = {\n",
    "    'n_locals' : UserSettableParameter('slider', 'Locals', 50, 0, 100, 10),\n",
    "    'pro_tourism_probability' : UserSettableParameter('slider', 'Pro tourism probability', 0.2, 0.0, 1.0, 0.1),\n",
    "    'n_initial_tourists' : UserSettableParameter('slider', 'Tourists', 10, 0, 200, 10),\n",
    "    'grow_n_tourists' : UserSettableParameter('checkbox', 'New tourists?', value=True),\n",
    "    'agent_portrayal' : UserSettableParameter('choice', 'Agent portrayal', value='utility', choices=['utility', 'random']),\n",
    "    'collect_data' : UserSettableParameter('checkbox', 'Collect data', value=True),\n",
    "    'policy' : UserSettableParameter('choice', 'Tourism policy', value='none', choices=['none', 'tax', 'travel_limit']),\n",
    "    'tax_rate' : UserSettableParameter('slider', 'Tax rate', 0.3, 0.0, 1.0, 0.1),\n",
    "    'travel_limit' : UserSettableParameter('slider', 'Max tourists', 50, 0, 200, 10),\n",
    "    'utility_weight_pleasure' : UserSettableParameter('slider', 'WEIGHT: Pleasure', 1.0, 0, 5, 0.1),\n",
    "    'utility_weight_overcrowding' : UserSettableParameter('slider', 'WEIGHT: Overcrowding', 1.0, 0, 5, 0.1),\n",
    "    'utility_weight_overcapacity' : UserSettableParameter('slider', 'WEIGHT: Overcapacity', 1.0, 0, 5, 0.1),\n",
    "    'utility_weight_pollution' : UserSettableParameter('slider', 'WEIGHT: Pollution', 1.0, 0, 5, 0.1),\n",
    "    'utility_weight_wealth_change' : UserSettableParameter('slider', 'WEIGHT: Wealth change', 1.0, 0, 5, 0.1),\n",
    "    'utility_weight_mood' : UserSettableParameter('slider', 'WEIGHT: Mood', 1.0, 0, 5, 0.1),\n",
    "}\n",
    "\n",
    "# Create chart\n",
    "\n",
    "chart_town_wealth = ChartModule(\n",
    "    [\n",
    "        {'Label': 'town_wealth', 'Color': 'Orange'}\n",
    "    ],\n",
    "    data_collector_name='datacollector')\n",
    "\n",
    "chart_utility = ChartModule(\n",
    "    [\n",
    "        {'Label': 'mean_local_utility', 'Color': 'Blue'},\n",
    "        {'Label': 'mean_tourist_utility', 'Color': 'Red'},\n",
    "        {'Label': 'mean_tourist_utility_hist', 'Color': 'Green'},\n",
    "    ],\n",
    "    data_collector_name='datacollector')\n",
    "\n",
    "local_factors = {\n",
    "    'overcapacity' : 'Black',\n",
    "    'overcrowding' : 'Red',\n",
    "    'pollution' : 'Blue',\n",
    "    'wealth_change' : 'Orange',\n",
    "    'pleasure' : 'Purple'\n",
    "}\n",
    "chart_local_factors = []\n",
    "for local_type in ['lpt', 'lnpt']:\n",
    "    factors = []\n",
    "    for factor, color in local_factors.items():\n",
    "        factors.append({'Label': 'mean_{}_{}'.format(factor, local_type), 'Color': color})\n",
    "    chart_local_factors.append(ChartModule(factors, data_collector_name='datacollector'))\n",
    "\n",
    "chart_factors_tourist = ChartModule(\n",
    "    [\n",
    "        {'Label': 'mean_overcapacity_t', 'Color': 'Black'},\n",
    "        {'Label': 'mean_overcrowding_t', 'Color': 'Red'},\n",
    "        {'Label': 'mean_pollution_t', 'Color': 'Blue'},\n",
    "        {'Label': 'mean_mood_t', 'Color': 'Green'},\n",
    "        {'Label': 'mean_pleasure_t', 'Color': 'Purple'},\n",
    "    ],\n",
    "    data_collector_name='datacollector')\n",
    "\n",
    "chart_n_tourists = ChartModule(\n",
    "    [\n",
    "        {'Label': 'n_tourists', 'Color': 'Black'},\n",
    "    ],\n",
    "    data_collector_name='datacollector')\n",
    "\n",
    "charts = [chart_utility, *chart_local_factors, chart_factors_tourist, chart_n_tourists]\n",
    "\n",
    "class MyTextElement(TextElement):\n",
    "    def render(self, model):\n",
    "        monitors = {\n",
    "            'Number of tourists' : 'n_tourists',\n",
    "            'Avg. local utility' : 'mean_local_utility',\n",
    "            'Avg. tourist utility' : 'mean_tourist_utility',\n",
    "            'Avg. tourist utility (historical)' : 'mean_tourist_utility_hist',\n",
    "            'FACTOR [Locals - pro tourism]: Pollution' : 'mean_pollution_lpt',\n",
    "            'FACTOR [Locals - not pro tourism]: Pollution' : 'mean_pollution_lnpt',\n",
    "            'FACTOR [Tourists]: Pollution' : 'mean_pollution_t',\n",
    "            'FACTOR [Locals - pro tourism]: Overcrowding' : 'mean_overcrowding_lpt',\n",
    "            'FACTOR [Locals - not pro tourism]: Overcrowding' : 'mean_overcrowding_lnpt',\n",
    "            'FACTOR [Tourists]: Overcrowding' : 'mean_overcrowding_t',\n",
    "            'FACTOR [Locals - pro tourism]: Overcapacity' : 'mean_overcapacity_lpt',\n",
    "            'FACTOR [Locals - not pro tourism]: Overcapacity' : 'mean_overcapacity_lnpt',\n",
    "            'FACTOR [Tourists]: Overcapacity' : 'mean_overcapacity_t',\n",
    "            'FACTOR [Locals - pro tourism]: Pleasure' : 'mean_pleasure_lpt',\n",
    "            'FACTOR [Locals - not pro tourism]: Pleasure' : 'mean_pleasure_lnpt',\n",
    "            'FACTOR [Tourists]: Pleasure' : 'mean_pleasure_t',\n",
    "            'FACTOR [Locals - not pro tourism]: Wealth change' : 'mean_wealth_change_lpt',\n",
    "            'FACTOR [Locals - pro tourism]: Wealth change' : 'mean_wealth_change_lnpt',\n",
    "            'FACTOR [Tourists]: Friendliness/Hostility' : 'mean_mood_t',\n",
    "            'Town wealth' : 'town_wealth'\n",
    "        }\n",
    "        items = ['{}: {:.2f}'.format(k, float(model.datacollector.model_vars[v][-1]) if model.datacollector.model_vars[v] else -1) for k, v in monitors.items()]\n",
    "        output = '<br>'.join(items)\n",
    "        output += '<br>' + (model.datacollector.model_vars['debug'][-1] if model.datacollector.model_vars['debug'] else '-')\n",
    "        return output\n",
    "\n",
    "# Create and launch server\n",
    "\n",
    "server = ModularServer(OvertourismModel,\n",
    "                       [grid, MyTextElement()],#, chart_utility, *chart_local_factors, chart_factors_tourist, chart_n_tourists],\n",
    "                       'Overtourism model',\n",
    "                       model_params)\n",
    "server.launch(port=1234)"
   ]
  },
  {
   "cell_type": "markdown",
   "metadata": {},
   "source": [
    "# Reload model"
   ]
  },
  {
   "cell_type": "code",
   "execution_count": null,
   "metadata": {
    "scrolled": true
   },
   "outputs": [],
   "source": [
    "\"\"\"Reload model\"\"\"\n",
    "# Run this cell if you've made changes to the model\n",
    "# and want to test your changes without restarting the server\n",
    "%run Overtourism.ipynb\n",
    "server.model_cls = OvertourismModel\n",
    "server.reset_model()"
   ]
  },
  {
   "cell_type": "markdown",
   "metadata": {},
   "source": [
    "# Plot chart"
   ]
  },
  {
   "cell_type": "code",
   "execution_count": null,
   "metadata": {},
   "outputs": [],
   "source": [
    "\"\"\"Plot current model run\"\"\"\n",
    "def plot(chart):\n",
    "    dfs = []\n",
    "    model_report = server.model.datacollector.get_model_vars_dataframe()\n",
    "    for item in chart.series:\n",
    "        df = pd.DataFrame()\n",
    "        label = item['Label']\n",
    "        df['tick'] = model_report.index\n",
    "        df['value'] = model_report[label]\n",
    "        df['key'] = label\n",
    "        dfs.append(df)\n",
    "    df = pd.concat(dfs)\n",
    "    keys_sorted = df.key.unique()\n",
    "    keys_sorted.sort()\n",
    "    \n",
    "    sns.set(style='whitegrid', font_scale=1.0)\n",
    "    fig, ax = plt.subplots(1, 1, figsize=(12,4))\n",
    "\n",
    "    ax = sns.lineplot(\n",
    "        data=df,\n",
    "        x='tick',\n",
    "        y='value',\n",
    "        ax=ax,\n",
    "        palette='Set1',\n",
    "        hue='key',\n",
    "        hue_order=keys_sorted,\n",
    "        style='key',\n",
    "        dashes=False)\n",
    "\n",
    "    handles, labels = ax.get_legend_handles_labels()\n",
    "    ax.legend(handles=handles[1:], labels=labels[1:], loc='lower right')\n",
    "    ax.set(xlabel='tick',\n",
    "           ylabel='value')\n",
    "    ax.legend(bbox_to_anchor=(1.05, 1), loc=2, borderaxespad=0.)\n",
    "\n",
    "for chart in charts:\n",
    "    plot(chart)"
   ]
  },
  {
   "cell_type": "markdown",
   "metadata": {},
   "source": [
    "# Kill server process"
   ]
  },
  {
   "cell_type": "code",
   "execution_count": null,
   "metadata": {},
   "outputs": [],
   "source": [
    "\"\"\"Bash command to kill process\"\"\"\n",
    "# Run the following process in Bash to kill the server process\n",
    "# kill $(lsof -t -i:1234)"
   ]
  },
  {
   "cell_type": "markdown",
   "metadata": {},
   "source": [
    "# Analysis"
   ]
  },
  {
   "cell_type": "code",
   "execution_count": null,
   "metadata": {},
   "outputs": [],
   "source": [
    "# pro tourism\n",
    "base_dir = '~/Downloads/'\n",
    "result_csvs = {'Satisfaction Utility : 70% pro-tourism' : ['model_run_7_3.csv', 'model_run.csv', 'model_run_1.csv'],\n",
    "               'Satisfaction Utility : 30% pro-tourism' : ['model_run_3_7.csv', 'model_run2.csv', 'model_run_2.csv'],\n",
    "              }\n",
    "columns_2 = [[('mean_local_pt_utility', 'Locals (Pro-tourism)'),\n",
    "              ('mean_local_npt_utility', 'Locals (Not pro-tourism)'),\n",
    "              ('mean_local_utility', 'Locals')],\n",
    "             [('mean_tourist_utility', 'Tourists')]\n",
    "            ]\n",
    "policies = ['none', 'travel_limit', 'tax']\n",
    "for param, csvs in result_csvs.items():\n",
    "    for columns in columns_2:\n",
    "        dfs = []\n",
    "        for csv in csvs:\n",
    "            result_df = pd.read_csv(base_dir + csv)\n",
    "            for column in columns:\n",
    "                df = pd.DataFrame()\n",
    "                df['policy'] = result_df['policy']\n",
    "                df['column'] = column[1]\n",
    "                df['value'] = result_df[column[0]]\n",
    "                dfs.append(df)\n",
    "        if dfs:\n",
    "            df = pd.concat(dfs)\n",
    "            sns.set(style='whitegrid', font_scale=2.0)\n",
    "            plt.figure(figsize=(16, 12))\n",
    "            \n",
    "            ax = sns.boxplot(\n",
    "                data=df,\n",
    "                x='column',\n",
    "                y='value',\n",
    "                palette='Set1',\n",
    "                hue='policy',\n",
    "                hue_order=policies,\n",
    "                linewidth=1.5,\n",
    "                showfliers = False,\n",
    "            )\n",
    "            handles, labels = ax.get_legend_handles_labels()\n",
    "            ax.legend(handles=handles[1:], labels=labels[1:], loc='lower right')\n",
    "            ax.set(xlabel=param,\n",
    "                   ylabel='value')\n",
    "            ax.legend(bbox_to_anchor=(1.05, 1), loc=2, borderaxespad=0.)"
   ]
  }
 ],
 "metadata": {
  "colab": {
   "authorship_tag": "ABX9TyN9fCvfcOz7zF3mXhka5Esi",
   "collapsed_sections": [
    "12ncQ7a5aZjX",
    "xeSgHe-afCC8",
    "Kl04Yu89Toi9",
    "hGomaYvEIKFy",
    "dnh-XkXxIVwN"
   ],
   "name": "Overtourism.ipynb",
   "provenance": []
  },
  "kernelspec": {
   "display_name": "Python 3",
   "language": "python",
   "name": "python3"
  },
  "language_info": {
   "codemirror_mode": {
    "name": "ipython",
    "version": 3
   },
   "file_extension": ".py",
   "mimetype": "text/x-python",
   "name": "python",
   "nbconvert_exporter": "python",
   "pygments_lexer": "ipython3",
   "version": "3.7.3"
  }
 },
 "nbformat": 4,
 "nbformat_minor": 1
}
