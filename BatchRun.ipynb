{
 "cells": [
  {
   "cell_type": "markdown",
   "metadata": {
    "id": "xeSgHe-afCC8"
   },
   "source": [
    "# Imports"
   ]
  },
  {
   "cell_type": "code",
   "execution_count": null,
   "metadata": {
    "code_folding": [],
    "executionInfo": {
     "elapsed": 6123,
     "status": "ok",
     "timestamp": 1601644274433,
     "user": {
      "displayName": "Alfons Mertjusuar",
      "photoUrl": "",
      "userId": "05850102642482204394"
     },
     "user_tz": -600
    },
    "id": "0sWcBerffBPV"
   },
   "outputs": [],
   "source": [
    "%run Overtourism.ipynb"
   ]
  },
  {
   "cell_type": "markdown",
   "metadata": {
    "id": "glWRqY2CFvtn"
   },
   "source": [
    "# Experiments"
   ]
  },
  {
   "cell_type": "code",
   "execution_count": null,
   "metadata": {
    "colab": {
     "base_uri": "https://localhost:8080/",
     "height": 358
    },
    "executionInfo": {
     "elapsed": 945,
     "status": "error",
     "timestamp": 1601644831738,
     "user": {
      "displayName": "Alfons Mertjusuar",
      "photoUrl": "",
      "userId": "05850102642482204394"
     },
     "user_tz": -600
    },
    "id": "Q610Y0ClZdZS",
    "outputId": "ef21f2b4-53d3-4cb8-c428-0c8031e01d89",
    "scrolled": true
   },
   "outputs": [],
   "source": [
    "fixed_params = {'n_locals' : 50}\n",
    "variable_params = {'n_initial_tourists': range(100, 400, 100)}\n",
    "\n",
    "batch_run = BatchRunner(OvertourismModel,\n",
    "                        variable_params,\n",
    "                        fixed_params,\n",
    "                        iterations=1,\n",
    "                        max_steps=200,\n",
    "                        model_reporters=Helper.MODEL_REPORTERS,\n",
    "                        agent_reporters=Helper.AGENT_REPORTERS)\n",
    "batch_run.run_all()"
   ]
  },
  {
   "cell_type": "markdown",
   "metadata": {
    "id": "_LxA9nM2L7FT"
   },
   "source": [
    "# Analysis"
   ]
  },
  {
   "cell_type": "code",
   "execution_count": null,
   "metadata": {},
   "outputs": [],
   "source": []
  }
 ],
 "metadata": {
  "colab": {
   "authorship_tag": "ABX9TyN9fCvfcOz7zF3mXhka5Esi",
   "collapsed_sections": [
    "12ncQ7a5aZjX",
    "xeSgHe-afCC8",
    "Kl04Yu89Toi9",
    "hGomaYvEIKFy",
    "dnh-XkXxIVwN"
   ],
   "name": "Overtourism.ipynb",
   "provenance": []
  },
  "kernelspec": {
   "display_name": "Python 3",
   "language": "python",
   "name": "python3"
  },
  "language_info": {
   "codemirror_mode": {
    "name": "ipython",
    "version": 3
   },
   "file_extension": ".py",
   "mimetype": "text/x-python",
   "name": "python",
   "nbconvert_exporter": "python",
   "pygments_lexer": "ipython3",
   "version": "3.7.3"
  }
 },
 "nbformat": 4,
 "nbformat_minor": 1
}
